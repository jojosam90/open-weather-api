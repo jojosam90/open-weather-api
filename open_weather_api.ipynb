{
  "cells": [
    {
      "cell_type": "markdown",
      "metadata": {
        "id": "view-in-github",
        "colab_type": "text"
      },
      "source": [
        "<a href=\"https://colab.research.google.com/github/jojosam90/open-weather-api/blob/main/open_weather_api.ipynb\" target=\"_parent\"><img src=\"https://colab.research.google.com/assets/colab-badge.svg\" alt=\"Open In Colab\"/></a>"
      ]
    },
    {
      "cell_type": "code",
      "source": [
        "#!pip install request\n",
        "#!pip install json"
      ],
      "metadata": {
        "id": "BRiJyURKIt13"
      },
      "execution_count": 90,
      "outputs": []
    },
    {
      "cell_type": "code",
      "source": [
        "# importing modules\n",
        "import requests\n",
        "import json"
      ],
      "metadata": {
        "id": "KOn1pmqcIeuq"
      },
      "execution_count": 91,
      "outputs": []
    },
    {
      "cell_type": "code",
      "source": [
        "api_key = \"f722c6e889bec166333f888849c9c186\""
      ],
      "metadata": {
        "id": "e8LxSrpGImdd"
      },
      "execution_count": 92,
      "outputs": []
    },
    {
      "cell_type": "code",
      "source": [
        "# API base_url variable to store url\n",
        "base_url = \"http://api.openweathermap.org/data/2.5/weather?\""
      ],
      "metadata": {
        "id": "ysjTieOSKCCU"
      },
      "execution_count": 93,
      "outputs": []
    },
    {
      "cell_type": "code",
      "source": [
        "# Give city name\n",
        "city_name = \"Singapore\""
      ],
      "metadata": {
        "id": "RSgAAnKGKOLZ"
      },
      "execution_count": 94,
      "outputs": []
    },
    {
      "cell_type": "code",
      "source": [
        "# complete_url variable to store\n",
        "# complete url address\n",
        "complete_url = base_url + \"appid=\" + api_key + \"&q=\" + city_name"
      ],
      "metadata": {
        "id": "40RDx34RKXt7"
      },
      "execution_count": 95,
      "outputs": []
    },
    {
      "cell_type": "code",
      "source": [
        "complete_url"
      ],
      "metadata": {
        "id": "VenBlRP1NJfX",
        "outputId": "c5c69323-0b48-4b12-aed0-fd7c44b07092",
        "colab": {
          "base_uri": "https://localhost:8080/",
          "height": 55
        }
      },
      "execution_count": 96,
      "outputs": [
        {
          "output_type": "execute_result",
          "data": {
            "text/plain": [
              "'http://api.openweathermap.org/data/2.5/weather?appid=f722c6e889bec166333f888849c9c186&q=Singapore'"
            ],
            "application/vnd.google.colaboratory.intrinsic+json": {
              "type": "string"
            }
          },
          "metadata": {},
          "execution_count": 96
        }
      ]
    },
    {
      "cell_type": "code",
      "source": [
        "# sending HTTP requests\n",
        "response = requests.get(complete_url)\n",
        "\n",
        "# check the status of code request\n",
        "if response.status_code == 200 & response.status_code != 404:\n",
        "   \n",
        "   # retrieve data in json format\n",
        "   data = response.json()\n",
        "\n",
        "   # take the main dict block \n",
        "   main = data['main']\n",
        "\n",
        "   # getting temperature\n",
        "   temperature = main['temp']\n",
        "   # getting humidity\n",
        "   humidity  = main['humidity']\n",
        "\n",
        "   # weather report\n",
        "   weather_report = data['weather']\n",
        "\n",
        "   # wind report\n",
        "   wind_report = data['wind']\n",
        "\n",
        "   #print(f\"{CITY:-^35}\")\n",
        "   #print(f\"City ID: {data['id']}\")  \n",
        "   print(f\"City Name: {data['name']}\")   \n",
        "   print(f\"Temperature: {temperature - 273.15 :.1f}°C\")  \n",
        "   print(f\"Humidity: {humidity}\")\n",
        "   print(f\"Weather: {weather_report[0]['description']}\")\n",
        "   print(f\"Wind Speed: {wind_report['speed']} mph\")\n",
        "   #print(f\"Time Zone: {data['timezone']}\")\n",
        "   #print(f\"Time Zone: {data['dt_txt']}\")\n",
        "   \n",
        "else:\n",
        "   # showing the error message\n",
        "   print(\"Error in the HTTP request\")"
      ],
      "metadata": {
        "id": "YmNcio41NPOn",
        "outputId": "8eb9b19b-ea75-41c0-d957-24dfb0808186",
        "colab": {
          "base_uri": "https://localhost:8080/"
        }
      },
      "execution_count": 104,
      "outputs": [
        {
          "output_type": "stream",
          "name": "stdout",
          "text": [
            "City Name: Singapore\n",
            "Temperature: 30.1°C\n",
            "Humidity: 70\n",
            "Weather: scattered clouds\n",
            "Wind Speed: 3.09 mph\n"
          ]
        }
      ]
    }
  ],
  "metadata": {
    "colab": {
      "collapsed_sections": [],
      "name": "Welcome To Colaboratory",
      "provenance": [],
      "include_colab_link": true
    },
    "kernelspec": {
      "display_name": "Python 3",
      "name": "python3"
    },
    "accelerator": "GPU",
    "gpuClass": "standard"
  },
  "nbformat": 4,
  "nbformat_minor": 0
}